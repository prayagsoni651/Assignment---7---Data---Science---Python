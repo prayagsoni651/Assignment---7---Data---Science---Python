{
 "cells": [
  {
   "cell_type": "code",
   "execution_count": 1,
   "metadata": {},
   "outputs": [
    {
     "data": {
      "text/plain": [
       "'\\n\\nIn Python, the feature responsible for generating regular expression objects is the\\nre module. The re module provides a set of functions that allow you to work with \\nregular expressions. You can use functions like re.compile() to create a regular \\nexpression object, and then use methods of that object for matching patterns in strings.\\n'"
      ]
     },
     "execution_count": 1,
     "metadata": {},
     "output_type": "execute_result"
    }
   ],
   "source": [
    "# 1. What is the name of the feature responsible for generating Regex objects?\n",
    "\n",
    "\n",
    "'''\n",
    "\n",
    "In Python, the feature responsible for generating regular expression objects is the\n",
    "re module. The re module provides a set of functions that allow you to work with \n",
    "regular expressions. You can use functions like re.compile() to create a regular \n",
    "expression object, and then use methods of that object for matching patterns in strings.\n",
    "'''"
   ]
  },
  {
   "cell_type": "code",
   "execution_count": 2,
   "metadata": {},
   "outputs": [],
   "source": [
    "# 2. Why do raw strings often appear in Regex objects?\n",
    "\n",
    "'''\n",
    "Raw strings (denoted by adding the prefix r before the string literal, such as r'some_string')\n",
    "are often used in regular expressions in Python to avoid unintended escape character behavior.\n",
    "\n",
    "In regular expressions, backslashes \\ are commonly used as escape characters.\n",
    "However, Python itself also uses backslashes as escape characters in regular\n",
    "string literals. This can lead to confusion and potential issues when working \n",
    "with regular expressions, as you may need to use double backslashes to represent\n",
    "a single literal backslash in the regex pattern.\n",
    "\n",
    "Using a raw string (prefixed with r) in Python disables the escape character\n",
    "interpretation. This is particularly useful in regular expressions, where\n",
    "backslashes are frequently used, as it allows you to write patterns more cleanly\n",
    "and with less clutter.\n",
    "\n",
    "'''\n",
    "# Without raw string\n",
    "pattern = \"\\d+\"\n",
    "# This represents the regex pattern \\d+ but may be confusing due to escape character\n",
    "\n",
    "# With raw string\n",
    "pattern = r\"\\d+\"\n",
    "# This makes it clearer that \\d+ is the intended regex pattern\n"
   ]
  },
  {
   "cell_type": "code",
   "execution_count": 4,
   "metadata": {},
   "outputs": [
    {
     "name": "stdout",
     "output_type": "stream",
     "text": [
      "Match found: 42\n"
     ]
    },
    {
     "data": {
      "text/plain": [
       "'\\n\\nIn this example, if a match is found, search() returns a match object,\\nand match_object.group() would contain the actual matched string \\n(e.g., \"42\" or \"123\"). If no match is found, search() returns None,\\nand the program prints \"No match found.\\n\\n'"
      ]
     },
     "execution_count": 4,
     "metadata": {},
     "output_type": "execute_result"
    }
   ],
   "source": [
    "# 3. What is the return value of the search() method?\n",
    "\n",
    "'''\n",
    "The search() method in Python's re module returns a match object if a match \n",
    "is found and None otherwise. The match object provides information about the\n",
    "match, such as the matched string, the starting and ending positions of the\n",
    "match, and any captured groups.\n",
    "\n",
    "Here's a brief example:\n",
    "\n",
    "'''\n",
    "import re\n",
    "\n",
    "pattern = r'\\b\\d+\\b'  # A simple regex pattern to match one or more digits surrounded by word boundaries\n",
    "text = \"There are 42 apples and 123 oranges.\"\n",
    "\n",
    "match_object = re.search(pattern, text)\n",
    "\n",
    "if match_object:\n",
    "    print(\"Match found:\", match_object.group())\n",
    "else:\n",
    "    print(\"No match found\")\n",
    "\n",
    "\n",
    "'''\n",
    "\n",
    "In this example, if a match is found, search() returns a match object,\n",
    "and match_object.group() would contain the actual matched string \n",
    "(e.g., \"42\" or \"123\"). If no match is found, search() returns None,\n",
    "and the program prints \"No match found.\n",
    "\n",
    "'''\n"
   ]
  },
  {
   "cell_type": "code",
   "execution_count": 5,
   "metadata": {},
   "outputs": [
    {
     "name": "stdout",
     "output_type": "stream",
     "text": [
      "Match found: 42\n"
     ]
    }
   ],
   "source": [
    "# 4. From a Match item, how do you get the actual strings that match the pattern?\n",
    "\n",
    "'''\n",
    "\n",
    "To get the actual strings that match the pattern from a Match object in Python's\n",
    "re module, you can use the group() method. The group() method returns the string\n",
    "matched by the regular expression\n",
    "\n",
    "'''\n",
    "\n",
    "import re\n",
    "\n",
    "pattern = r'\\b\\d+\\b'  # A simple regex pattern to match one or more digits surrounded by word boundaries\n",
    "text = \"There are 42 apples and 123 oranges.\"\n",
    "\n",
    "match_object = re.search(pattern, text)\n",
    "\n",
    "if match_object:\n",
    "    matched_string = match_object.group()\n",
    "    print(\"Match found:\", matched_string)\n",
    "else:\n",
    "    print(\"No match found\")\n"
   ]
  },
  {
   "cell_type": "code",
   "execution_count": 6,
   "metadata": {},
   "outputs": [
    {
     "name": "stdout",
     "output_type": "stream",
     "text": [
      "Group 0 (entire match): 123-456-7890\n",
      "Group 1: 123\n",
      "Group 2: 456-7890\n"
     ]
    }
   ],
   "source": [
    "# 5. In the regex which created from the r&#39;(\\d\\d\\d)-(\\d\\d\\d-\\d\\d\\d\\d)&#39;\n",
    "# , what does group zero cover? Group 2? Group 1?\n",
    "\n",
    "'''\n",
    "\n",
    "In the regular expression r'(\\d\\d\\d)-(\\d\\d\\d-\\d\\d\\d\\d)', the parentheses () are used to create\n",
    "capturing groups.\n",
    "\n",
    "       = Group 0 (the entire match): The entire match of the regular expression is \n",
    "       represented by group 0. In this case, it includes the entire pattern (\\d\\d\\d)\n",
    "       -(\\d\\d\\d-\\d\\d\\d\\d). So, group 0 covers the entire string that matches the pattern.\n",
    "\n",
    "       = Group 1: The first set of parentheses (\\d\\d\\d) forms capturing group 1. This\n",
    "       group covers the first three digits.\n",
    "\n",
    "      = Group 2: The second set of parentheses (\\d\\d\\d-\\d\\d\\d\\d) forms capturing group\n",
    "      2. This group covers the second part of the pattern, which includes three digits, a \n",
    "      hyphen, and four more digits.\n",
    "\n",
    "Here's an example of how you might use these groups:\n",
    "\n",
    "'''\n",
    "\n",
    "import re\n",
    "\n",
    "pattern = r'(\\d\\d\\d)-(\\d\\d\\d-\\d\\d\\d\\d)'\n",
    "text = \"123-456-7890\"\n",
    "\n",
    "match_object = re.search(pattern, text)\n",
    "\n",
    "if match_object:\n",
    "    print(\"Group 0 (entire match):\", match_object.group(0))\n",
    "    print(\"Group 1:\", match_object.group(1))\n",
    "    print(\"Group 2:\", match_object.group(2))\n",
    "else:\n",
    "    print(\"No match found\")\n",
    "\n"
   ]
  },
  {
   "cell_type": "code",
   "execution_count": 7,
   "metadata": {},
   "outputs": [
    {
     "name": "stdout",
     "output_type": "stream",
     "text": [
      "Match found: (hello)\n",
      "Match found: example.com\n"
     ]
    }
   ],
   "source": [
    "# 6. In standard expression syntax, parentheses and intervals have distinct meanings.\n",
    "# How can you tell a regex that you want it to fit real parentheses and periods?\n",
    "\n",
    "'''\n",
    "\n",
    "In regular expressions, you can use a backslash (\\) to escape special characters, \n",
    "including parentheses and periods, to indicate that you want to match the literal\n",
    "character rather than its special meaning. Here's how you can use backslashes to \n",
    "match real parentheses and periods:\n",
    "\n",
    "\n",
    "\n",
    "Escaping Parentheses: Use \\( and \\) to match literal parentheses.\n",
    "\n",
    "For example, to match the string \"(hello)\", you would use the regex pattern \\(hello\\).\n",
    "'''\n",
    "\n",
    "import re\n",
    "\n",
    "pattern = r'\\(hello\\)'\n",
    "text = \"(hello)\"\n",
    "\n",
    "match_object = re.search(pattern, text)\n",
    "\n",
    "if match_object:\n",
    "    print(\"Match found:\", match_object.group())\n",
    "else:\n",
    "    print(\"No match found\")\n",
    "\n",
    "\n",
    "'''\n",
    "Escaping Periods: Use \\. to match a literal period.\n",
    "\n",
    "For example, to match the string \"example.com\", you would use the regex pattern example\\.com\n",
    "'''\n",
    "\n",
    "import re\n",
    "\n",
    "pattern = r'example\\.com'\n",
    "text = \"example.com\"\n",
    "\n",
    "match_object = re.search(pattern, text)\n",
    "\n",
    "if match_object:\n",
    "    print(\"Match found:\", match_object.group())\n",
    "else:\n",
    "    print(\"No match found\")\n"
   ]
  },
  {
   "cell_type": "code",
   "execution_count": 8,
   "metadata": {},
   "outputs": [
    {
     "name": "stdout",
     "output_type": "stream",
     "text": [
      "['123', '456', '789']\n",
      "['123', '456', '789']\n"
     ]
    }
   ],
   "source": [
    "\n",
    "\n",
    "\n",
    "\n",
    "'''\n",
    "The findall() method in Python's re module returns either a list of strings or a\n",
    "list of string tuples based on the presence of capturing groups in the regular expression\n",
    "\n",
    "'''\n",
    "\n",
    "'''\n",
    "\n",
    "Without Capturing Groups:\n",
    "\n",
    "If the regular expression pattern has no capturing groups (no parentheses), findall() \n",
    "returns a list of strings. Each string in the list represents a complete match of the \n",
    "pattern.\n",
    "'''\n",
    "\n",
    "import re\n",
    "\n",
    "pattern = r'\\d+'  # This pattern has no capturing groups\n",
    "text = \"123 456 789\"\n",
    "\n",
    "result = re.findall(pattern, text)\n",
    "print(result)  # Output: ['123', '456', '789']\n",
    "\n",
    "\n",
    "\n",
    "'''\n",
    "With Capturing Groups:\n",
    "\n",
    "If the regular expression pattern contains capturing groups (parentheses), findall()\n",
    "returns a list of tuples. Each tuple corresponds to a match, and the elements of \n",
    "the tuple represent the content of the capturing groups.\n",
    "'''\n",
    "import re\n",
    "\n",
    "pattern = r'(\\d+)'  # This pattern has a capturing group\n",
    "text = \"123 456 789\"\n",
    "\n",
    "result = re.findall(pattern, text)\n",
    "print(result)  # Output: [('123',), ('456',), ('789',)]\n",
    "\n"
   ]
  },
  {
   "cell_type": "code",
   "execution_count": 9,
   "metadata": {},
   "outputs": [
    {
     "name": "stdout",
     "output_type": "stream",
     "text": [
      "['cat', 'dog']\n",
      "apple juice\n"
     ]
    }
   ],
   "source": [
    "# 8. In standard expressions, what does the | character mean?\n",
    "\n",
    "'''\n",
    "In regular expressions, the | character represents the logical OR operation. It is used\n",
    "to specify alternatives within a pattern. The | is called a pipe or vertical bar and allows\n",
    "you to match either the pattern on its left or the pattern\n",
    "on its right.\n",
    "'''\n",
    "\n",
    "import re\n",
    "\n",
    "pattern = r'dog|cat'\n",
    "text = \"I have a cat and a dog.\"\n",
    "\n",
    "result = re.findall(pattern, text)\n",
    "print(result)\n",
    "\n",
    "'''\n",
    "In this example, the pattern r'dog|cat' will match either \"dog\" or \"cat.\" The findall() \n",
    "function will return a list of all non-overlapping matches in the input text. In the\n",
    "given text, the result would be ['cat', 'dog'] because both \"cat\" and \"dog\" are present\n",
    "in the input text.\n",
    "\n",
    "\n",
    "\n",
    "You can also use parentheses to group expressions and apply the | operator to larger\n",
    "sub-patterns. For example:\n",
    "\n",
    "'''\n",
    "\n",
    "import re\n",
    "\n",
    "pattern = r'(apple|orange) juice'\n",
    "text = \"I like apple juice, but not orange juice.\"\n",
    "\n",
    "result = re.search(pattern, text)\n",
    "if result:\n",
    "    print(result.group())\n"
   ]
  },
  {
   "cell_type": "code",
   "execution_count": 10,
   "metadata": {},
   "outputs": [
    {
     "data": {
      "text/plain": [
       "'\\n\\n\\nIt seems like there is a missing character or symbol in your question. Could you \\nplease provide more information or clarify the specific character you are referring \\nto in regular expressions? Regular expressions use various special characters, and\\neach has its own meaning.\\n\\n\\n\\n\\nIf you are referring to a specific character, like the dot (.), asterisk (*), \\nquestion mark (?), or any other character, please specify so that I can provide \\nyou with the relevant information about its meaning in regular expressions\\n\\n'"
      ]
     },
     "execution_count": 10,
     "metadata": {},
     "output_type": "execute_result"
    }
   ],
   "source": [
    "# 9. In regular expressions, what does the character stand for?\n",
    "\n",
    "\n",
    "'''\n",
    "\n",
    "\n",
    "It seems like there is a missing character or symbol in your question. Could you \n",
    "please provide more information or clarify the specific character you are referring \n",
    "to in regular expressions? Regular expressions use various special characters, and\n",
    "each has its own meaning.\n",
    "\n",
    "\n",
    "\n",
    "\n",
    "If you are referring to a specific character, like the dot (.), asterisk (*), \n",
    "question mark (?), or any other character, please specify so that I can provide \n",
    "you with the relevant information about its meaning in regular expressions\n",
    "\n",
    "'''"
   ]
  },
  {
   "cell_type": "code",
   "execution_count": null,
   "metadata": {},
   "outputs": [],
   "source": [
    "# 10.In regular expressions, what is the difference between the + and * characters?\n",
    "\n",
    "'''\n",
    "\n",
    "In regular expressions, both the + and * characters are quantifiers that modify the behavior\n",
    "of the preceding element in the pattern, but they have different meanings:\n",
    "\n",
    "\n",
    "\n",
    "1 ==== + (Plus):\n",
    " = The + quantifier matches one or more occurrences of the preceding element.\n",
    " = It requires that the preceding element must appear at least once in the input\n",
    "   string, but it can also appear more than once.\n",
    "Example\n",
    "'''\n",
    "import re\n",
    "\n",
    "pattern = r'\\d+'  # Match one or more digits\n",
    "text = \"123 abc 456\"\n",
    "\n",
    "result = re.findall(pattern, text)\n",
    "print(result)  # Output: ['123', '456']\n",
    "\n",
    "'''\n",
    "\n",
    "2  === * (Asterisk):\n",
    "\n",
    "The * quantifier matches zero or more occurrences of the preceding element.\n",
    "It allows the preceding element to appear zero times or any number of times.\n",
    "Example\n",
    "'''\n",
    "\n",
    "import re\n",
    "\n",
    "pattern = r'\\d*'  # Match zero or more digits\n",
    "text = \"abc 123 xyz 456\"\n",
    "\n",
    "result = re.findall(pattern, text)\n",
    "print(result)  # Output: ['', '123', '', '456', '']\n",
    "\n",
    "\n",
    "'''\n",
    "\n",
    "In the first example with +, the pattern \\d+ requires at least one digit to\n",
    "match, so it matches \"123\" and \"456.\"\n",
    "\n",
    "In the second example with *, the pattern \\d* allows for zero or more digits, \n",
    "so it matches empty strings between non-digit characters and the actual digit \n",
    "sequences \"123\" and \"456.\"\n",
    "'''\n"
   ]
  }
 ],
 "metadata": {
  "kernelspec": {
   "display_name": "base",
   "language": "python",
   "name": "python3"
  },
  "language_info": {
   "codemirror_mode": {
    "name": "ipython",
    "version": 3
   },
   "file_extension": ".py",
   "mimetype": "text/x-python",
   "name": "python",
   "nbconvert_exporter": "python",
   "pygments_lexer": "ipython3",
   "version": "3.11.4"
  }
 },
 "nbformat": 4,
 "nbformat_minor": 2
}
